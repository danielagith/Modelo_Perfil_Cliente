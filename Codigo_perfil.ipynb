{
 "cells": [
  {
   "cell_type": "code",
   "execution_count": 287,
   "id": "3f48768b-faf7-411f-9301-02a4418ada26",
   "metadata": {},
   "outputs": [],
   "source": [
    "# 'df' representa o DataFrame no Power BI\n",
    "import pandas as pd\n",
    "import matplotlib.pyplot as plt\n",
    "import seaborn as sns\n",
    "from sklearn.cluster import KMeans\n",
    "from sklearn.preprocessing import StandardScaler\n",
    "from sklearn.decomposition import PCA\n",
    "from sklearn.compose import ColumnTransformer\n",
    "from sklearn.pipeline import Pipeline\n",
    "from sklearn.preprocessing import OneHotEncoder\n"
   ]
  },
  {
   "cell_type": "code",
   "execution_count": 288,
   "id": "acd9f763-f729-40ba-b4c8-08c8296bb732",
   "metadata": {},
   "outputs": [],
   "source": [
    "df = pd.read_excel(\"salesfull.xlsx\")\n",
    "\n"
   ]
  },
  {
   "cell_type": "code",
   "execution_count": 289,
   "id": "bbf3abfc-ebba-48ca-a86f-33de0c3cbfe3",
   "metadata": {},
   "outputs": [],
   "source": [
    "df['Billing USD'] = df['Billing USD'].str.replace('$', '')"
   ]
  },
  {
   "cell_type": "code",
   "execution_count": 290,
   "id": "35a58c13-b7fa-4716-86eb-32a263bf456e",
   "metadata": {},
   "outputs": [],
   "source": [
    "df['Billing USD'] = df['Billing USD'].str.replace('.', '')"
   ]
  },
  {
   "cell_type": "code",
   "execution_count": 291,
   "id": "d42b3bb2-9351-473c-a2dd-b4be8310cac9",
   "metadata": {},
   "outputs": [
    {
     "data": {
      "text/plain": [
       "0    37520\n",
       "1     3220\n",
       "2    71190\n",
       "3      469\n",
       "4    26999\n",
       "Name: Billing USD, dtype: object"
      ]
     },
     "execution_count": 291,
     "metadata": {},
     "output_type": "execute_result"
    }
   ],
   "source": [
    "df['Billing USD'].head()"
   ]
  },
  {
   "cell_type": "code",
   "execution_count": 292,
   "id": "9281f9f9-d76c-4027-9159-daa15150a19c",
   "metadata": {},
   "outputs": [],
   "source": [
    "df['Billing USD'] = pd.to_numeric(df['Billing USD'], errors='coerce')\n",
    "#df['Billing USD'] = df['Billing USD'].replace('[\\$,]', '', regex=True).astype(float)\n",
    "#df['Billing USD'] = pd.to_numeric(df['Billing USD']).astype(float)"
   ]
  },
  {
   "cell_type": "code",
   "execution_count": 293,
   "id": "131ad5b5-1a84-4775-8769-9793e1fc6341",
   "metadata": {},
   "outputs": [],
   "source": [
    "df['Billing USD'] = df['Billing USD'] / 100"
   ]
  },
  {
   "cell_type": "code",
   "execution_count": 294,
   "id": "af8ffc1b-2950-4a6a-af0a-e51504cea185",
   "metadata": {},
   "outputs": [
    {
     "name": "stdout",
     "output_type": "stream",
     "text": [
      "[375.2   32.2  711.9  ...  13.86 573.13 367.99]\n"
     ]
    }
   ],
   "source": [
    "print(df['Billing USD'].unique())"
   ]
  },
  {
   "cell_type": "code",
   "execution_count": 295,
   "id": "314cf869-6404-4779-b030-083a27c55562",
   "metadata": {},
   "outputs": [],
   "source": [
    "df['Gender'] = df['Gender'].astype('category')\n",
    "#df = pd.get_dummies(df, columns=['Gender'], prefix='Gender')"
   ]
  },
  {
   "cell_type": "code",
   "execution_count": 296,
   "id": "be6d6b49-3b1d-4cfd-84a2-58ce18ed44ce",
   "metadata": {},
   "outputs": [],
   "source": [
    "#df['Billing USD'] = df['Billing USD'].astype('object')"
   ]
  },
  {
   "cell_type": "code",
   "execution_count": 297,
   "id": "f16e2e9f-6b86-4034-b39f-e66ea1a0dccc",
   "metadata": {},
   "outputs": [
    {
     "data": {
      "text/plain": [
       "Order Number              0\n",
       "Line Number               0\n",
       "Order Date                0\n",
       "Delivery Date             0\n",
       "CustomerKey               0\n",
       "StoreKey                  0\n",
       "ProductKey                0\n",
       "Quantity                  0\n",
       "Unit Price                0\n",
       "Net Price                 0\n",
       "Unit Cost                 0\n",
       "Currency Code             0\n",
       "Exchange Rate             0\n",
       "Billing Local Currency    0\n",
       "Billing USD               0\n",
       "Product Name              0\n",
       "Manufacturer              0\n",
       "Brand                     0\n",
       "Category                  0\n",
       "Gender                    0\n",
       "City                      0\n",
       "State Code                8\n",
       "Country Code              0\n",
       "Age                       0\n",
       "Age Group                 0\n",
       "TimeDelivery              0\n",
       "Country                   0\n",
       "dtype: int64"
      ]
     },
     "execution_count": 297,
     "metadata": {},
     "output_type": "execute_result"
    }
   ],
   "source": [
    "df.isnull().sum()"
   ]
  },
  {
   "cell_type": "code",
   "execution_count": 298,
   "id": "aace6740-b621-47f2-8560-71c7f03594aa",
   "metadata": {},
   "outputs": [
    {
     "data": {
      "text/html": [
       "<div>\n",
       "<style scoped>\n",
       "    .dataframe tbody tr th:only-of-type {\n",
       "        vertical-align: middle;\n",
       "    }\n",
       "\n",
       "    .dataframe tbody tr th {\n",
       "        vertical-align: top;\n",
       "    }\n",
       "\n",
       "    .dataframe thead th {\n",
       "        text-align: right;\n",
       "    }\n",
       "</style>\n",
       "<table border=\"1\" class=\"dataframe\">\n",
       "  <thead>\n",
       "    <tr style=\"text-align: right;\">\n",
       "      <th></th>\n",
       "      <th>Order Number</th>\n",
       "      <th>Line Number</th>\n",
       "      <th>Order Date</th>\n",
       "      <th>Delivery Date</th>\n",
       "      <th>CustomerKey</th>\n",
       "      <th>StoreKey</th>\n",
       "      <th>ProductKey</th>\n",
       "      <th>Quantity</th>\n",
       "      <th>Unit Price</th>\n",
       "      <th>Net Price</th>\n",
       "      <th>...</th>\n",
       "      <th>Brand</th>\n",
       "      <th>Category</th>\n",
       "      <th>Gender</th>\n",
       "      <th>City</th>\n",
       "      <th>State Code</th>\n",
       "      <th>Country Code</th>\n",
       "      <th>Age</th>\n",
       "      <th>Age Group</th>\n",
       "      <th>TimeDelivery</th>\n",
       "      <th>Country</th>\n",
       "    </tr>\n",
       "  </thead>\n",
       "  <tbody>\n",
       "    <tr>\n",
       "      <th>0</th>\n",
       "      <td>277901</td>\n",
       "      <td>0</td>\n",
       "      <td>quinta-feira, 10 de agosto de 2017</td>\n",
       "      <td>quinta-feira, 17 de agosto de 2017</td>\n",
       "      <td>1212508</td>\n",
       "      <td>999999</td>\n",
       "      <td>1462</td>\n",
       "      <td>1</td>\n",
       "      <td>375.20</td>\n",
       "      <td>341.43</td>\n",
       "      <td>...</td>\n",
       "      <td>Contoso</td>\n",
       "      <td>Cell phones</td>\n",
       "      <td>Male</td>\n",
       "      <td>Los Angeles</td>\n",
       "      <td>CA</td>\n",
       "      <td>US</td>\n",
       "      <td>32</td>\n",
       "      <td>young</td>\n",
       "      <td>7</td>\n",
       "      <td>United States</td>\n",
       "    </tr>\n",
       "    <tr>\n",
       "      <th>1</th>\n",
       "      <td>271300</td>\n",
       "      <td>0</td>\n",
       "      <td>segunda-feira, 5 de junho de 2017</td>\n",
       "      <td>domingo, 11 de junho de 2017</td>\n",
       "      <td>1273789</td>\n",
       "      <td>999999</td>\n",
       "      <td>1346</td>\n",
       "      <td>1</td>\n",
       "      <td>32.20</td>\n",
       "      <td>28.98</td>\n",
       "      <td>...</td>\n",
       "      <td>Contoso</td>\n",
       "      <td>Cell phones</td>\n",
       "      <td>Male</td>\n",
       "      <td>San Carlos</td>\n",
       "      <td>CA</td>\n",
       "      <td>US</td>\n",
       "      <td>47</td>\n",
       "      <td>young</td>\n",
       "      <td>6</td>\n",
       "      <td>United States</td>\n",
       "    </tr>\n",
       "    <tr>\n",
       "      <th>2</th>\n",
       "      <td>283304</td>\n",
       "      <td>0</td>\n",
       "      <td>terça-feira, 3 de outubro de 2017</td>\n",
       "      <td>quarta-feira, 4 de outubro de 2017</td>\n",
       "      <td>1290364</td>\n",
       "      <td>999999</td>\n",
       "      <td>2087</td>\n",
       "      <td>1</td>\n",
       "      <td>711.90</td>\n",
       "      <td>654.95</td>\n",
       "      <td>...</td>\n",
       "      <td>Contoso</td>\n",
       "      <td>Home Appliances</td>\n",
       "      <td>Male</td>\n",
       "      <td>Olney</td>\n",
       "      <td>MD</td>\n",
       "      <td>US</td>\n",
       "      <td>26</td>\n",
       "      <td>young</td>\n",
       "      <td>1</td>\n",
       "      <td>United States</td>\n",
       "    </tr>\n",
       "    <tr>\n",
       "      <th>3</th>\n",
       "      <td>278500</td>\n",
       "      <td>0</td>\n",
       "      <td>quarta-feira, 16 de agosto de 2017</td>\n",
       "      <td>domingo, 20 de agosto de 2017</td>\n",
       "      <td>1324602</td>\n",
       "      <td>999999</td>\n",
       "      <td>2517</td>\n",
       "      <td>1</td>\n",
       "      <td>4.69</td>\n",
       "      <td>4.17</td>\n",
       "      <td>...</td>\n",
       "      <td>Contoso</td>\n",
       "      <td>Cell phones</td>\n",
       "      <td>Male</td>\n",
       "      <td>Norcross</td>\n",
       "      <td>GA</td>\n",
       "      <td>US</td>\n",
       "      <td>66</td>\n",
       "      <td>young</td>\n",
       "      <td>4</td>\n",
       "      <td>United States</td>\n",
       "    </tr>\n",
       "    <tr>\n",
       "      <th>4</th>\n",
       "      <td>269504</td>\n",
       "      <td>0</td>\n",
       "      <td>quinta-feira, 18 de maio de 2017</td>\n",
       "      <td>sábado, 20 de maio de 2017</td>\n",
       "      <td>1337541</td>\n",
       "      <td>999999</td>\n",
       "      <td>2366</td>\n",
       "      <td>1</td>\n",
       "      <td>269.99</td>\n",
       "      <td>237.59</td>\n",
       "      <td>...</td>\n",
       "      <td>Contoso</td>\n",
       "      <td>Home Appliances</td>\n",
       "      <td>Male</td>\n",
       "      <td>Harlingen</td>\n",
       "      <td>TX</td>\n",
       "      <td>US</td>\n",
       "      <td>47</td>\n",
       "      <td>young</td>\n",
       "      <td>2</td>\n",
       "      <td>United States</td>\n",
       "    </tr>\n",
       "  </tbody>\n",
       "</table>\n",
       "<p>5 rows × 27 columns</p>\n",
       "</div>"
      ],
      "text/plain": [
       "   Order Number  Line Number                          Order Date  \\\n",
       "0        277901            0  quinta-feira, 10 de agosto de 2017   \n",
       "1        271300            0   segunda-feira, 5 de junho de 2017   \n",
       "2        283304            0   terça-feira, 3 de outubro de 2017   \n",
       "3        278500            0  quarta-feira, 16 de agosto de 2017   \n",
       "4        269504            0    quinta-feira, 18 de maio de 2017   \n",
       "\n",
       "                        Delivery Date  CustomerKey  StoreKey  ProductKey  \\\n",
       "0  quinta-feira, 17 de agosto de 2017      1212508    999999        1462   \n",
       "1        domingo, 11 de junho de 2017      1273789    999999        1346   \n",
       "2  quarta-feira, 4 de outubro de 2017      1290364    999999        2087   \n",
       "3       domingo, 20 de agosto de 2017      1324602    999999        2517   \n",
       "4          sábado, 20 de maio de 2017      1337541    999999        2366   \n",
       "\n",
       "   Quantity  Unit Price  Net Price  ...    Brand         Category Gender  \\\n",
       "0         1      375.20     341.43  ...  Contoso      Cell phones   Male   \n",
       "1         1       32.20      28.98  ...  Contoso      Cell phones   Male   \n",
       "2         1      711.90     654.95  ...  Contoso  Home Appliances   Male   \n",
       "3         1        4.69       4.17  ...  Contoso      Cell phones   Male   \n",
       "4         1      269.99     237.59  ...  Contoso  Home Appliances   Male   \n",
       "\n",
       "          City  State Code Country Code Age Age Group TimeDelivery  \\\n",
       "0  Los Angeles          CA           US  32     young            7   \n",
       "1   San Carlos          CA           US  47     young            6   \n",
       "2        Olney          MD           US  26     young            1   \n",
       "3     Norcross          GA           US  66     young            4   \n",
       "4    Harlingen          TX           US  47     young            2   \n",
       "\n",
       "         Country  \n",
       "0  United States  \n",
       "1  United States  \n",
       "2  United States  \n",
       "3  United States  \n",
       "4  United States  \n",
       "\n",
       "[5 rows x 27 columns]"
      ]
     },
     "execution_count": 298,
     "metadata": {},
     "output_type": "execute_result"
    }
   ],
   "source": [
    "df.head()"
   ]
  },
  {
   "cell_type": "code",
   "execution_count": 299,
   "id": "fb7a6541-c383-4faa-a1c6-a3860060b902",
   "metadata": {},
   "outputs": [
    {
     "data": {
      "text/plain": [
       "0         375.20\n",
       "1          32.20\n",
       "2         711.90\n",
       "3           4.69\n",
       "4         269.99\n",
       "          ...   \n",
       "13910    5344.81\n",
       "13911      13.86\n",
       "13912     123.14\n",
       "13913     573.13\n",
       "13914     367.99\n",
       "Name: Billing USD, Length: 13915, dtype: float64"
      ]
     },
     "execution_count": 299,
     "metadata": {},
     "output_type": "execute_result"
    }
   ],
   "source": [
    "df['Billing USD']"
   ]
  },
  {
   "cell_type": "code",
   "execution_count": 300,
   "id": "5945f505-6362-43a1-8821-a1075d1b8381",
   "metadata": {},
   "outputs": [
    {
     "name": "stdout",
     "output_type": "stream",
     "text": [
      "Empty DataFrame\n",
      "Columns: [Order Number, Line Number, Order Date, Delivery Date, CustomerKey, StoreKey, ProductKey, Quantity, Unit Price, Net Price, Unit Cost, Currency Code, Exchange Rate, Billing Local Currency, Billing USD, Product Name, Manufacturer, Brand, Category, Gender, City, State Code, Country Code, Age, Age Group, TimeDelivery, Country]\n",
      "Index: []\n",
      "\n",
      "[0 rows x 27 columns]\n"
     ]
    }
   ],
   "source": [
    "linhas_nulas_billing = df[df['Billing USD'].isnull()]\n",
    "print(linhas_nulas_billing)"
   ]
  },
  {
   "cell_type": "code",
   "execution_count": 301,
   "id": "b647830e-236c-43d9-80e3-93f4db1a4389",
   "metadata": {},
   "outputs": [
    {
     "name": "stdout",
     "output_type": "stream",
     "text": [
      "Order Number                 int64\n",
      "Line Number                  int64\n",
      "Order Date                  object\n",
      "Delivery Date               object\n",
      "CustomerKey                  int64\n",
      "StoreKey                     int64\n",
      "ProductKey                   int64\n",
      "Quantity                     int64\n",
      "Unit Price                 float64\n",
      "Net Price                  float64\n",
      "Unit Cost                  float64\n",
      "Currency Code               object\n",
      "Exchange Rate               object\n",
      "Billing Local Currency      object\n",
      "Billing USD                float64\n",
      "Product Name                object\n",
      "Manufacturer                object\n",
      "Brand                       object\n",
      "Category                    object\n",
      "Gender                    category\n",
      "City                        object\n",
      "State Code                  object\n",
      "Country Code                object\n",
      "Age                          int64\n",
      "Age Group                   object\n",
      "TimeDelivery                 int64\n",
      "Country                     object\n",
      "dtype: object\n"
     ]
    }
   ],
   "source": [
    "tipos_de_dados = df.dtypes\n",
    "print(tipos_de_dados)"
   ]
  },
  {
   "cell_type": "code",
   "execution_count": 302,
   "id": "271e6b70-78d0-4fb6-ba71-a5adf54c1fcd",
   "metadata": {},
   "outputs": [
    {
     "data": {
      "text/plain": [
       "Index(['Order Number', 'Line Number', 'Order Date', 'Delivery Date',\n",
       "       'CustomerKey', 'StoreKey', 'ProductKey', 'Quantity', 'Unit Price',\n",
       "       'Net Price', 'Unit Cost', 'Currency Code', 'Exchange Rate',\n",
       "       'Billing Local Currency', 'Billing USD', 'Product Name', 'Manufacturer',\n",
       "       'Brand', 'Category', 'Gender', 'City', 'State Code', 'Country Code',\n",
       "       'Age', 'Age Group', 'TimeDelivery', 'Country'],\n",
       "      dtype='object')"
      ]
     },
     "execution_count": 302,
     "metadata": {},
     "output_type": "execute_result"
    }
   ],
   "source": [
    "df.columns"
   ]
  },
  {
   "cell_type": "code",
   "execution_count": 303,
   "id": "1b9f368a-2f90-45a2-9386-94143a704633",
   "metadata": {},
   "outputs": [],
   "source": [
    "# Seleciona as variáveis relevantes\n",
    "df_cluster = df[['Age', 'Billing USD', 'Category', 'Country', 'Gender', 'Product Name']]\n",
    "\n"
   ]
  },
  {
   "cell_type": "code",
   "execution_count": 304,
   "id": "a1750ac5-bd45-45e1-8762-7e0f00087604",
   "metadata": {},
   "outputs": [],
   "source": [
    "# Divide as variáveis em numéricas e categóricas\n",
    "numeric_features = ['Age', 'Billing USD']\n",
    "categorical_features = ['Category', 'Country', 'Gender', 'Product Name']\n",
    "\n"
   ]
  },
  {
   "cell_type": "code",
   "execution_count": 305,
   "id": "4b90944d-d58e-4509-abf6-ffc081994bae",
   "metadata": {},
   "outputs": [],
   "source": [
    "# Cria transformers para aplicar a padronização nas variáveis numéricas\n",
    "numeric_transformer = Pipeline(steps=[\n",
    "    ('scaler', StandardScaler())\n",
    "])\n",
    "\n"
   ]
  },
  {
   "cell_type": "code",
   "execution_count": 306,
   "id": "f79f63cf-08db-4643-a3ad-391f30d527c6",
   "metadata": {},
   "outputs": [],
   "source": [
    "# Cria transformers para aplicar a codificação one-hot nas variáveis categóricas\n",
    "categorical_transformer = Pipeline(steps=[\n",
    "    ('onehot', OneHotEncoder(handle_unknown='ignore'))\n",
    "])\n",
    "\n"
   ]
  },
  {
   "cell_type": "code",
   "execution_count": 307,
   "id": "6bf3e574-7c01-45f1-a92a-e020257dd4f9",
   "metadata": {},
   "outputs": [],
   "source": [
    "# Combina os transformers em um único ColumnTransformer\n",
    "preprocessor = ColumnTransformer(\n",
    "    transformers=[\n",
    "        ('num', numeric_transformer, numeric_features),\n",
    "        ('cat', categorical_transformer, categorical_features)\n",
    "    ])\n",
    "\n"
   ]
  },
  {
   "cell_type": "code",
   "execution_count": 313,
   "id": "9ea978be-9880-4eb6-94fd-1ef6373f40b2",
   "metadata": {},
   "outputs": [],
   "source": [
    "# Aplica a transformação no DataFrame\n",
    "df_cluster_transformed = preprocessor.fit_transform(df_cluster)\n",
    "\n"
   ]
  },
  {
   "cell_type": "code",
   "execution_count": 314,
   "id": "e53b4b2f-cf88-4ac6-a6ee-c294f0f0d874",
   "metadata": {},
   "outputs": [],
   "source": [
    "# Escolhe o número de clusters\n",
    "num_clusters = 3\n",
    "kmeans = KMeans(n_clusters=num_clusters, init='k-means++', max_iter=300, n_init=10, random_state=0)\n",
    "df['Cluster'] = kmeans.fit_predict(df_cluster_transformed)\n",
    "\n"
   ]
  },
  {
   "cell_type": "code",
   "execution_count": 315,
   "id": "4ff90142-9918-4368-a9ec-cde47b101973",
   "metadata": {},
   "outputs": [
    {
     "ename": "ValueError",
     "evalue": "Could not interpret value `pca_1` for `x`. An entry with this name does not appear in `data`.",
     "output_type": "error",
     "traceback": [
      "\u001b[1;31m---------------------------------------------------------------------------\u001b[0m",
      "\u001b[1;31mValueError\u001b[0m                                Traceback (most recent call last)",
      "Cell \u001b[1;32mIn[315], line 3\u001b[0m\n\u001b[0;32m      1\u001b[0m \u001b[38;5;66;03m# Visualizações de cluster usando seaborn ou matplotlib\u001b[39;00m\n\u001b[0;32m      2\u001b[0m plt\u001b[38;5;241m.\u001b[39mfigure(figsize\u001b[38;5;241m=\u001b[39m(\u001b[38;5;241m10\u001b[39m, \u001b[38;5;241m6\u001b[39m))\n\u001b[1;32m----> 3\u001b[0m \u001b[43msns\u001b[49m\u001b[38;5;241;43m.\u001b[39;49m\u001b[43mscatterplot\u001b[49m\u001b[43m(\u001b[49m\u001b[43mx\u001b[49m\u001b[38;5;241;43m=\u001b[39;49m\u001b[38;5;124;43m'\u001b[39;49m\u001b[38;5;124;43mpca_1\u001b[39;49m\u001b[38;5;124;43m'\u001b[39;49m\u001b[43m,\u001b[49m\u001b[43m \u001b[49m\u001b[43my\u001b[49m\u001b[38;5;241;43m=\u001b[39;49m\u001b[38;5;124;43m'\u001b[39;49m\u001b[38;5;124;43mpca_2\u001b[39;49m\u001b[38;5;124;43m'\u001b[39;49m\u001b[43m,\u001b[49m\u001b[43m \u001b[49m\u001b[43mhue\u001b[49m\u001b[38;5;241;43m=\u001b[39;49m\u001b[38;5;124;43m'\u001b[39;49m\u001b[38;5;124;43mCluster\u001b[39;49m\u001b[38;5;124;43m'\u001b[39;49m\u001b[43m,\u001b[49m\u001b[43m \u001b[49m\u001b[43mdata\u001b[49m\u001b[38;5;241;43m=\u001b[39;49m\u001b[43mdf\u001b[49m\u001b[43m,\u001b[49m\u001b[43m \u001b[49m\u001b[43mpalette\u001b[49m\u001b[38;5;241;43m=\u001b[39;49m\u001b[38;5;124;43m'\u001b[39;49m\u001b[38;5;124;43mviridis\u001b[39;49m\u001b[38;5;124;43m'\u001b[39;49m\u001b[43m,\u001b[49m\u001b[43m \u001b[49m\u001b[43malpha\u001b[49m\u001b[38;5;241;43m=\u001b[39;49m\u001b[38;5;241;43m0.8\u001b[39;49m\u001b[43m)\u001b[49m\n\u001b[0;32m      4\u001b[0m plt\u001b[38;5;241m.\u001b[39mtitle(\u001b[38;5;124m'\u001b[39m\u001b[38;5;124mClusters no Espaço PCA (2D)\u001b[39m\u001b[38;5;124m'\u001b[39m)\n\u001b[0;32m      5\u001b[0m plt\u001b[38;5;241m.\u001b[39mshow()\n",
      "File \u001b[1;32m~\\AppData\\Local\\Programs\\Python\\Python311\\Lib\\site-packages\\seaborn\\relational.py:603\u001b[0m, in \u001b[0;36mscatterplot\u001b[1;34m(data, x, y, hue, size, style, palette, hue_order, hue_norm, sizes, size_order, size_norm, markers, style_order, legend, ax, **kwargs)\u001b[0m\n\u001b[0;32m    594\u001b[0m \u001b[38;5;28;01mdef\u001b[39;00m \u001b[38;5;21mscatterplot\u001b[39m(\n\u001b[0;32m    595\u001b[0m     data\u001b[38;5;241m=\u001b[39m\u001b[38;5;28;01mNone\u001b[39;00m, \u001b[38;5;241m*\u001b[39m,\n\u001b[0;32m    596\u001b[0m     x\u001b[38;5;241m=\u001b[39m\u001b[38;5;28;01mNone\u001b[39;00m, y\u001b[38;5;241m=\u001b[39m\u001b[38;5;28;01mNone\u001b[39;00m, hue\u001b[38;5;241m=\u001b[39m\u001b[38;5;28;01mNone\u001b[39;00m, size\u001b[38;5;241m=\u001b[39m\u001b[38;5;28;01mNone\u001b[39;00m, style\u001b[38;5;241m=\u001b[39m\u001b[38;5;28;01mNone\u001b[39;00m,\n\u001b[1;32m   (...)\u001b[0m\n\u001b[0;32m    600\u001b[0m     \u001b[38;5;241m*\u001b[39m\u001b[38;5;241m*\u001b[39mkwargs\n\u001b[0;32m    601\u001b[0m ):\n\u001b[1;32m--> 603\u001b[0m     p \u001b[38;5;241m=\u001b[39m \u001b[43m_ScatterPlotter\u001b[49m\u001b[43m(\u001b[49m\n\u001b[0;32m    604\u001b[0m \u001b[43m        \u001b[49m\u001b[43mdata\u001b[49m\u001b[38;5;241;43m=\u001b[39;49m\u001b[43mdata\u001b[49m\u001b[43m,\u001b[49m\n\u001b[0;32m    605\u001b[0m \u001b[43m        \u001b[49m\u001b[43mvariables\u001b[49m\u001b[38;5;241;43m=\u001b[39;49m\u001b[38;5;28;43mdict\u001b[39;49m\u001b[43m(\u001b[49m\u001b[43mx\u001b[49m\u001b[38;5;241;43m=\u001b[39;49m\u001b[43mx\u001b[49m\u001b[43m,\u001b[49m\u001b[43m \u001b[49m\u001b[43my\u001b[49m\u001b[38;5;241;43m=\u001b[39;49m\u001b[43my\u001b[49m\u001b[43m,\u001b[49m\u001b[43m \u001b[49m\u001b[43mhue\u001b[49m\u001b[38;5;241;43m=\u001b[39;49m\u001b[43mhue\u001b[49m\u001b[43m,\u001b[49m\u001b[43m \u001b[49m\u001b[43msize\u001b[49m\u001b[38;5;241;43m=\u001b[39;49m\u001b[43msize\u001b[49m\u001b[43m,\u001b[49m\u001b[43m \u001b[49m\u001b[43mstyle\u001b[49m\u001b[38;5;241;43m=\u001b[39;49m\u001b[43mstyle\u001b[49m\u001b[43m)\u001b[49m\u001b[43m,\u001b[49m\n\u001b[0;32m    606\u001b[0m \u001b[43m        \u001b[49m\u001b[43mlegend\u001b[49m\u001b[38;5;241;43m=\u001b[39;49m\u001b[43mlegend\u001b[49m\n\u001b[0;32m    607\u001b[0m \u001b[43m    \u001b[49m\u001b[43m)\u001b[49m\n\u001b[0;32m    609\u001b[0m     p\u001b[38;5;241m.\u001b[39mmap_hue(palette\u001b[38;5;241m=\u001b[39mpalette, order\u001b[38;5;241m=\u001b[39mhue_order, norm\u001b[38;5;241m=\u001b[39mhue_norm)\n\u001b[0;32m    610\u001b[0m     p\u001b[38;5;241m.\u001b[39mmap_size(sizes\u001b[38;5;241m=\u001b[39msizes, order\u001b[38;5;241m=\u001b[39msize_order, norm\u001b[38;5;241m=\u001b[39msize_norm)\n",
      "File \u001b[1;32m~\\AppData\\Local\\Programs\\Python\\Python311\\Lib\\site-packages\\seaborn\\relational.py:390\u001b[0m, in \u001b[0;36m_ScatterPlotter.__init__\u001b[1;34m(self, data, variables, legend)\u001b[0m\n\u001b[0;32m    381\u001b[0m \u001b[38;5;28;01mdef\u001b[39;00m \u001b[38;5;21m__init__\u001b[39m(\u001b[38;5;28mself\u001b[39m, \u001b[38;5;241m*\u001b[39m, data\u001b[38;5;241m=\u001b[39m\u001b[38;5;28;01mNone\u001b[39;00m, variables\u001b[38;5;241m=\u001b[39m{}, legend\u001b[38;5;241m=\u001b[39m\u001b[38;5;28;01mNone\u001b[39;00m):\n\u001b[0;32m    382\u001b[0m \n\u001b[0;32m    383\u001b[0m     \u001b[38;5;66;03m# TODO this is messy, we want the mapping to be agnostic about\u001b[39;00m\n\u001b[0;32m    384\u001b[0m     \u001b[38;5;66;03m# the kind of plot to draw, but for the time being we need to set\u001b[39;00m\n\u001b[0;32m    385\u001b[0m     \u001b[38;5;66;03m# this information so the SizeMapping can use it\u001b[39;00m\n\u001b[0;32m    386\u001b[0m     \u001b[38;5;28mself\u001b[39m\u001b[38;5;241m.\u001b[39m_default_size_range \u001b[38;5;241m=\u001b[39m (\n\u001b[0;32m    387\u001b[0m         np\u001b[38;5;241m.\u001b[39mr_[\u001b[38;5;241m.5\u001b[39m, \u001b[38;5;241m2\u001b[39m] \u001b[38;5;241m*\u001b[39m np\u001b[38;5;241m.\u001b[39msquare(mpl\u001b[38;5;241m.\u001b[39mrcParams[\u001b[38;5;124m\"\u001b[39m\u001b[38;5;124mlines.markersize\u001b[39m\u001b[38;5;124m\"\u001b[39m])\n\u001b[0;32m    388\u001b[0m     )\n\u001b[1;32m--> 390\u001b[0m     \u001b[38;5;28;43msuper\u001b[39;49m\u001b[43m(\u001b[49m\u001b[43m)\u001b[49m\u001b[38;5;241;43m.\u001b[39;49m\u001b[38;5;21;43m__init__\u001b[39;49m\u001b[43m(\u001b[49m\u001b[43mdata\u001b[49m\u001b[38;5;241;43m=\u001b[39;49m\u001b[43mdata\u001b[49m\u001b[43m,\u001b[49m\u001b[43m \u001b[49m\u001b[43mvariables\u001b[49m\u001b[38;5;241;43m=\u001b[39;49m\u001b[43mvariables\u001b[49m\u001b[43m)\u001b[49m\n\u001b[0;32m    392\u001b[0m     \u001b[38;5;28mself\u001b[39m\u001b[38;5;241m.\u001b[39mlegend \u001b[38;5;241m=\u001b[39m legend\n",
      "File \u001b[1;32m~\\AppData\\Local\\Programs\\Python\\Python311\\Lib\\site-packages\\seaborn\\_base.py:634\u001b[0m, in \u001b[0;36mVectorPlotter.__init__\u001b[1;34m(self, data, variables)\u001b[0m\n\u001b[0;32m    629\u001b[0m \u001b[38;5;66;03m# var_ordered is relevant only for categorical axis variables, and may\u001b[39;00m\n\u001b[0;32m    630\u001b[0m \u001b[38;5;66;03m# be better handled by an internal axis information object that tracks\u001b[39;00m\n\u001b[0;32m    631\u001b[0m \u001b[38;5;66;03m# such information and is set up by the scale_* methods. The analogous\u001b[39;00m\n\u001b[0;32m    632\u001b[0m \u001b[38;5;66;03m# information for numeric axes would be information about log scales.\u001b[39;00m\n\u001b[0;32m    633\u001b[0m \u001b[38;5;28mself\u001b[39m\u001b[38;5;241m.\u001b[39m_var_ordered \u001b[38;5;241m=\u001b[39m {\u001b[38;5;124m\"\u001b[39m\u001b[38;5;124mx\u001b[39m\u001b[38;5;124m\"\u001b[39m: \u001b[38;5;28;01mFalse\u001b[39;00m, \u001b[38;5;124m\"\u001b[39m\u001b[38;5;124my\u001b[39m\u001b[38;5;124m\"\u001b[39m: \u001b[38;5;28;01mFalse\u001b[39;00m}  \u001b[38;5;66;03m# alt., used DefaultDict\u001b[39;00m\n\u001b[1;32m--> 634\u001b[0m \u001b[38;5;28;43mself\u001b[39;49m\u001b[38;5;241;43m.\u001b[39;49m\u001b[43massign_variables\u001b[49m\u001b[43m(\u001b[49m\u001b[43mdata\u001b[49m\u001b[43m,\u001b[49m\u001b[43m \u001b[49m\u001b[43mvariables\u001b[49m\u001b[43m)\u001b[49m\n\u001b[0;32m    636\u001b[0m \u001b[38;5;66;03m# TODO Lots of tests assume that these are called to initialize the\u001b[39;00m\n\u001b[0;32m    637\u001b[0m \u001b[38;5;66;03m# mappings to default values on class initialization. I'd prefer to\u001b[39;00m\n\u001b[0;32m    638\u001b[0m \u001b[38;5;66;03m# move away from that and only have a mapping when explicitly called.\u001b[39;00m\n\u001b[0;32m    639\u001b[0m \u001b[38;5;28;01mfor\u001b[39;00m var \u001b[38;5;129;01min\u001b[39;00m [\u001b[38;5;124m\"\u001b[39m\u001b[38;5;124mhue\u001b[39m\u001b[38;5;124m\"\u001b[39m, \u001b[38;5;124m\"\u001b[39m\u001b[38;5;124msize\u001b[39m\u001b[38;5;124m\"\u001b[39m, \u001b[38;5;124m\"\u001b[39m\u001b[38;5;124mstyle\u001b[39m\u001b[38;5;124m\"\u001b[39m]:\n",
      "File \u001b[1;32m~\\AppData\\Local\\Programs\\Python\\Python311\\Lib\\site-packages\\seaborn\\_base.py:679\u001b[0m, in \u001b[0;36mVectorPlotter.assign_variables\u001b[1;34m(self, data, variables)\u001b[0m\n\u001b[0;32m    674\u001b[0m \u001b[38;5;28;01melse\u001b[39;00m:\n\u001b[0;32m    675\u001b[0m     \u001b[38;5;66;03m# When dealing with long-form input, use the newer PlotData\u001b[39;00m\n\u001b[0;32m    676\u001b[0m     \u001b[38;5;66;03m# object (internal but introduced for the objects interface)\u001b[39;00m\n\u001b[0;32m    677\u001b[0m     \u001b[38;5;66;03m# to centralize / standardize data consumption logic.\u001b[39;00m\n\u001b[0;32m    678\u001b[0m     \u001b[38;5;28mself\u001b[39m\u001b[38;5;241m.\u001b[39minput_format \u001b[38;5;241m=\u001b[39m \u001b[38;5;124m\"\u001b[39m\u001b[38;5;124mlong\u001b[39m\u001b[38;5;124m\"\u001b[39m\n\u001b[1;32m--> 679\u001b[0m     plot_data \u001b[38;5;241m=\u001b[39m \u001b[43mPlotData\u001b[49m\u001b[43m(\u001b[49m\u001b[43mdata\u001b[49m\u001b[43m,\u001b[49m\u001b[43m \u001b[49m\u001b[43mvariables\u001b[49m\u001b[43m)\u001b[49m\n\u001b[0;32m    680\u001b[0m     frame \u001b[38;5;241m=\u001b[39m plot_data\u001b[38;5;241m.\u001b[39mframe\n\u001b[0;32m    681\u001b[0m     names \u001b[38;5;241m=\u001b[39m plot_data\u001b[38;5;241m.\u001b[39mnames\n",
      "File \u001b[1;32m~\\AppData\\Local\\Programs\\Python\\Python311\\Lib\\site-packages\\seaborn\\_core\\data.py:58\u001b[0m, in \u001b[0;36mPlotData.__init__\u001b[1;34m(self, data, variables)\u001b[0m\n\u001b[0;32m     51\u001b[0m \u001b[38;5;28;01mdef\u001b[39;00m \u001b[38;5;21m__init__\u001b[39m(\n\u001b[0;32m     52\u001b[0m     \u001b[38;5;28mself\u001b[39m,\n\u001b[0;32m     53\u001b[0m     data: DataSource,\n\u001b[0;32m     54\u001b[0m     variables: \u001b[38;5;28mdict\u001b[39m[\u001b[38;5;28mstr\u001b[39m, VariableSpec],\n\u001b[0;32m     55\u001b[0m ):\n\u001b[0;32m     57\u001b[0m     data \u001b[38;5;241m=\u001b[39m handle_data_source(data)\n\u001b[1;32m---> 58\u001b[0m     frame, names, ids \u001b[38;5;241m=\u001b[39m \u001b[38;5;28;43mself\u001b[39;49m\u001b[38;5;241;43m.\u001b[39;49m\u001b[43m_assign_variables\u001b[49m\u001b[43m(\u001b[49m\u001b[43mdata\u001b[49m\u001b[43m,\u001b[49m\u001b[43m \u001b[49m\u001b[43mvariables\u001b[49m\u001b[43m)\u001b[49m\n\u001b[0;32m     60\u001b[0m     \u001b[38;5;28mself\u001b[39m\u001b[38;5;241m.\u001b[39mframe \u001b[38;5;241m=\u001b[39m frame\n\u001b[0;32m     61\u001b[0m     \u001b[38;5;28mself\u001b[39m\u001b[38;5;241m.\u001b[39mnames \u001b[38;5;241m=\u001b[39m names\n",
      "File \u001b[1;32m~\\AppData\\Local\\Programs\\Python\\Python311\\Lib\\site-packages\\seaborn\\_core\\data.py:232\u001b[0m, in \u001b[0;36mPlotData._assign_variables\u001b[1;34m(self, data, variables)\u001b[0m\n\u001b[0;32m    230\u001b[0m     \u001b[38;5;28;01melse\u001b[39;00m:\n\u001b[0;32m    231\u001b[0m         err \u001b[38;5;241m+\u001b[39m\u001b[38;5;241m=\u001b[39m \u001b[38;5;124m\"\u001b[39m\u001b[38;5;124mAn entry with this name does not appear in `data`.\u001b[39m\u001b[38;5;124m\"\u001b[39m\n\u001b[1;32m--> 232\u001b[0m     \u001b[38;5;28;01mraise\u001b[39;00m \u001b[38;5;167;01mValueError\u001b[39;00m(err)\n\u001b[0;32m    234\u001b[0m \u001b[38;5;28;01melse\u001b[39;00m:\n\u001b[0;32m    235\u001b[0m \n\u001b[0;32m    236\u001b[0m     \u001b[38;5;66;03m# Otherwise, assume the value somehow represents data\u001b[39;00m\n\u001b[0;32m    237\u001b[0m \n\u001b[0;32m    238\u001b[0m     \u001b[38;5;66;03m# Ignore empty data structures\u001b[39;00m\n\u001b[0;32m    239\u001b[0m     \u001b[38;5;28;01mif\u001b[39;00m \u001b[38;5;28misinstance\u001b[39m(val, Sized) \u001b[38;5;129;01mand\u001b[39;00m \u001b[38;5;28mlen\u001b[39m(val) \u001b[38;5;241m==\u001b[39m \u001b[38;5;241m0\u001b[39m:\n",
      "\u001b[1;31mValueError\u001b[0m: Could not interpret value `pca_1` for `x`. An entry with this name does not appear in `data`."
     ]
    },
    {
     "data": {
      "text/plain": [
       "<Figure size 1000x600 with 0 Axes>"
      ]
     },
     "metadata": {},
     "output_type": "display_data"
    }
   ],
   "source": [
    "# Visualizações de cluster usando seaborn ou matplotlib\n",
    "plt.figure(figsize=(10, 6))\n",
    "sns.scatterplot(x='pca_1', y='pca_2', hue='Cluster', data=df, palette='viridis', alpha=0.8)\n",
    "plt.title('Clusters no Espaço PCA (2D)')\n",
    "plt.show()"
   ]
  },
  {
   "cell_type": "code",
   "execution_count": null,
   "id": "7104fcdd-d4c6-4f8f-af0c-236152a87b2b",
   "metadata": {},
   "outputs": [],
   "source": []
  },
  {
   "cell_type": "code",
   "execution_count": null,
   "id": "82d60330-cc45-40cd-a7f5-8be2b04f0ed8",
   "metadata": {},
   "outputs": [],
   "source": []
  },
  {
   "cell_type": "code",
   "execution_count": null,
   "id": "1396ff6d-81b4-447d-9f70-2abcdf73248a",
   "metadata": {},
   "outputs": [],
   "source": []
  }
 ],
 "metadata": {
  "kernelspec": {
   "display_name": "Python 3 (ipykernel)",
   "language": "python",
   "name": "python3"
  },
  "language_info": {
   "codemirror_mode": {
    "name": "ipython",
    "version": 3
   },
   "file_extension": ".py",
   "mimetype": "text/x-python",
   "name": "python",
   "nbconvert_exporter": "python",
   "pygments_lexer": "ipython3",
   "version": "3.11.5"
  }
 },
 "nbformat": 4,
 "nbformat_minor": 5
}
